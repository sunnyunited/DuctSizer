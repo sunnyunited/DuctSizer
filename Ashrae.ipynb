{
  "cells": [
    {
      "cell_type": "code",
      "execution_count": 1,
      "metadata": {
        "scrolled": true
      },
      "outputs": [
        {
          "data": {
            "application/vnd.jupyter.widget-view+json": {
              "model_id": "5635573f49484dfa9010b9630e1c9edf",
              "version_major": 2,
              "version_minor": 0
            },
            "text/plain": [
              "interactive(children=(BoundedIntText(value=100, description='Air flowrate (l/s):', max=1000000, style=Descript…"
            ]
          },
          "metadata": {},
          "output_type": "display_data"
        }
      ],
      "source": [
        "# from __future__ import print_function\n",
        "from ipywidgets import interact, interactive, fixed, interact_manual\n",
        "import ipywidgets as widgets\n",
        "import main\n",
        "\n",
        "style = {'description_width': 'initial'}\n",
        "\n",
        "def f(x,y,z,m):\n",
        "    main.sizing(x,y,z,m)\n",
        "    \n",
        "interact_manual(\n",
        "    f,\n",
        "    x=widgets.BoundedIntText(value=100,min=0,max=1000000,step=1,description=\"Air flowrate (l/s):\",disabled=False,style=style),\n",
        "    y=widgets.BoundedIntText(value=100,min=50,max=50000,step=50,description=\"Duct width (mm):\",disabled=False,style=style),\n",
        "    z=widgets.BoundedIntText(value=100,min=50,max=50000,step=50,description=\"Duct height (mm):\",disabled=False,style=style),\n",
        "    m=widgets.Dropdown(options={'GI (0.15)':0.15,'Concrete (1.0)':1.0,'KL GI (0.9)':0.9,'KL Concrete (3.0)':3.0},\n",
        "                       value=0.15,description=\"Duct material:\",disabled=False,style=style)\n",
        "    #m=[('one', 10), ('two', 20)]\n",
        "        );\n",
        "        #options=[('GI',0.09),('Concrete',1.0)],\n",
        "        #options=['GI','Concrete'],\n",
        "        #option={\n",
        "         #           'GI': 0.09,\n",
        "         #           'Concrete': 1.0,\n",
        "         #           },      \n",
        "       # value=\"GI\",description=\"Duct material:\",disabled=False)\n",
        "                \n"
      ]
    },
    {
      "cell_type": "code",
      "execution_count": null,
      "metadata": {},
      "outputs": [],
      "source": [
        "        "
      ]
    }
  ],
  "metadata": {
    "celltoolbar": "Raw Cell Format",
    "kernelspec": {
      "display_name": "Python 3.6",
      "language": "python",
      "name": "python36"
    },
    "language_info": {
      "codemirror_mode": {
        "name": "ipython",
        "version": 3
      },
      "file_extension": ".py",
      "mimetype": "text/x-python",
      "name": "python",
      "nbconvert_exporter": "python",
      "pygments_lexer": "ipython3",
      "version": "3.6.6"
    }
  },
  "nbformat": 4,
  "nbformat_minor": 2
}